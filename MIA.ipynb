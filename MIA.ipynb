{
  "nbformat": 4,
  "nbformat_minor": 0,
  "metadata": {
    "colab": {
      "provenance": [],
      "authorship_tag": "ABX9TyN80J90Sp1KiQvB7tY70ez3",
      "include_colab_link": true
    },
    "kernelspec": {
      "name": "python3",
      "display_name": "Python 3"
    },
    "language_info": {
      "name": "python"
    }
  },
  "cells": [
    {
      "cell_type": "markdown",
      "metadata": {
        "id": "view-in-github",
        "colab_type": "text"
      },
      "source": [
        "<a href=\"https://colab.research.google.com/github/EtienneP-26/MinIA/blob/main/MIA.ipynb\" target=\"_parent\"><img src=\"https://colab.research.google.com/assets/colab-badge.svg\" alt=\"Open In Colab\"/></a>"
      ]
    },
    {
      "cell_type": "markdown",
      "source": [
        "# MIA\n",
        "\n",
        "## Part I : Vector\n"
      ],
      "metadata": {
        "id": "65cWXUq2wGQ3"
      }
    },
    {
      "cell_type": "code",
      "execution_count": null,
      "metadata": {
        "id": "Qy1LydeLwF3k"
      },
      "outputs": [],
      "source": [
        "\n",
        "from math import sqrt\n",
        "\n",
        "class Vector:\n",
        "    \"\"\"Vector class is to simplify the handling of vectors in python\n",
        "\n",
        "    Args:\n",
        "        data (list[float]): List of float numbers to represents a vector\n",
        "    \"\"\"\n",
        "\n",
        "    def __init__(self, data: list[float]):\n",
        "        self.data = data\n",
        "        self.n = len(data)\n",
        "\n",
        "    def __repr__(self) -> str:\n",
        "        return \"|\" + \"|\\n|\".join(str(nb) for nb in self.data) + \"|\"\n",
        "\n",
        "    def __add__(self, other: \"Vector\") -> \"Vector\":\n",
        "        result: list[float]\n",
        "\n",
        "        if self.n != other.n:\n",
        "            raise ValueError(\"The two vectors are not define in the same dimentions\")\n",
        "        result = [self.data[i] + other.data[i] for i in range(self.n)]\n",
        "        return Vector(result)\n",
        "\n",
        "    def __sub__(self, other: \"Vector\") -> \"Vector\":\n",
        "        result: list[float]\n",
        "\n",
        "        if self.n != other.n:\n",
        "            raise ValueError(\"The two vectors are not define in the same dimentions\")\n",
        "        result = [self.data[i] - other.data[i] for i in range(self.n)]\n",
        "        return Vector(result)\n",
        "\n",
        "    def dot(self, other: \"Vector\") -> float:\n",
        "        \"\"\"Dot Product Method (u ⋅ v).\n",
        "\n",
        "        Args:\n",
        "            other (Vector): another vector of the same dimention.\n",
        "\n",
        "        Raises:\n",
        "            ValueError: The two vectors are not define in the same dimentions.\n",
        "                If the two vectors are in differents dimentions.\n",
        "\n",
        "        Returns:\n",
        "            float: the result of the dot product.\n",
        "        \"\"\"\n",
        "        if self.n != other.n:\n",
        "            raise ValueError(\"The two vectors are not define in the same dimentions\")\n",
        "        return sum([self.data[i] * other.data[i] for i in range(self.n)])\n",
        "\n",
        "    def norm(self) -> float:\n",
        "        \"\"\"Norm (||v||).\n",
        "\n",
        "        Returns:\n",
        "            float: the norm of the vector.\n",
        "        \"\"\"\n",
        "        return sqrt(sum([self.data[i] ** 2 for i in range(self.n)]))\n"
      ]
    }
  ]
}